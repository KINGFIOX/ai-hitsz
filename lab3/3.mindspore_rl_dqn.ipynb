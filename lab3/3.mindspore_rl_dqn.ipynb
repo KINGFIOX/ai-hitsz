{
 "cells": [
  {
   "cell_type": "markdown",
   "metadata": {},
   "source": [
    "# 3、使用Mindspore训练DQN算法\n",
    "本节实验为选做，最多可加10分。\n",
    "\n",
    "## 3.1 背景\n",
    "校区与华为共建的“智能基座”2.0已于2024年底签约启动，课程属于合作课程之一。根据“智能基座1.0”的情况，大概率会同步设置奖学金，有兴趣的同学可以积极参与华为智能基座相关活动。\n",
    "\n",
    "\n",
    "## 3.2 实验内容\n",
    "在2.reinforcement_q_learning.ipynb的基础上，改用Mindspore完成训练，也可以从零开始直接用Mindspore实现，只要求训练能够收敛，即reward能够较稳定的到500，reward到500后仍需继续训练至少300个episode以上观察后续的变化。\n",
    "\n",
    "不能直接使用MindSpore Reinforcement即mindspore_rl库！！ \n",
    "\n",
    "要求单独撰写文档，包含以下内容：主要的修改点、训练结果截图、碰到的问题及解决方法、给Mindspore的建议。如果最后能用mindspore跑起来，但不能收敛，将根据情况给部分分数。\n",
    "Mindspore实现的文档和代码与基础实验内容一同打包提交。\n",
    "\n",
    "## 3.3 参考资料\n",
    "\n",
    "可以尝试使用DeepSeek等大语言模型自动进行转换，但大概率无法正常运行，仍需手动debug。\n",
    "\n",
    "模型训练过程涉及到大量张量操作，最好先对张量、axis、dim等概念有个了解，并熟悉squeeze、gather等常用操作的原理和用法。\n",
    "\n",
    "### 3.3.1 模型迁移 MindSpore Dev Toolkit\n",
    "Mindspore官方开发了模型迁移 [MindSpore Dev Toolkit](https://www.mindspore.cn/devtoolkit/docs/zh-CN/master/VSCode_plugin_install.html) 工具，作为插件可安装到VSCode或pycharm，能对文件进行api扫描分析出相关接口，有些接口Mindspore和Pytorch完全一样，有些参数不同会给出差异的链接，还有些接口则Mindspore因为机制没有实现，也存在部分接口没有正确解析的情况。该工具只是扫出接口，具体替换还是要自己做。\n",
    "\n",
    "\n",
    "### 3.3.2 与Pytorch的区别\n",
    "官方文档：[与Pytorch典型区别](https://www.mindspore.cn/docs/zh-CN/r2.0/migration_guide/typical_api_comparision.html) 也简单说明了与Pytorch主要的接口区别，比如\n",
    "- torch.no_grad：在 PyTorch 中，默认情况下，执行正向计算时会记录反向传播所需的信息，在推理阶段或无需反向传播网络中，这一操作是冗余的，会额外耗时，因此，PyTorch 提供了torch.no_grad 来取消该过程。\n",
    "而 MindSpore 只有在调用grad才会根据正向图结构来构建反向图，正向执行时不会记录任何信息，所以 MindSpore 并不需要该接口，也可以理解为 MindSpore 的正向计算均在torch.no_grad 情况下进行的。\n",
    "\n",
    "Mindspore不同版本的文档布局差距比较大，比如[2.5.0](https://www.mindspore.cn/docs/zh-CN/r2.5.0/api_python/mindspore.ops.html)，在页面上部分为：设计理念、模型构建和训练、API文档等类别，根据需要自行查阅。"
   ]
  }
 ],
 "metadata": {
  "language_info": {
   "name": "python"
  }
 },
 "nbformat": 4,
 "nbformat_minor": 2
}
